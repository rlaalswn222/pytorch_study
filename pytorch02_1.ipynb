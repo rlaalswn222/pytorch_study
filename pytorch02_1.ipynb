{
 "cells": [
  {
   "cell_type": "code",
   "execution_count": 1,
   "id": "a0e135b2",
   "metadata": {},
   "outputs": [],
   "source": [
    "import torch\n",
    "import torch.nn as nn"
   ]
  },
  {
   "cell_type": "code",
   "execution_count": 2,
   "id": "357479eb",
   "metadata": {},
   "outputs": [
    {
     "name": "stdout",
     "output_type": "stream",
     "text": [
      "torch.Size([5, 1, 55, 55])\n"
     ]
    }
   ],
   "source": [
    "#Conv2d\n",
    "\n",
    "t = torch.rand(size=(5, 1, 227, 227))\n",
    "conv = nn.Conv2d(in_channels=1,\n",
    "    out_channels=1,\n",
    "    kernel_size=(11, 11),\n",
    "    stride=(4, 4),\n",
    "    padding=(0, 0))\n",
    "print(conv(t).shape)"
   ]
  },
  {
   "cell_type": "code",
   "execution_count": 9,
   "id": "5596d925",
   "metadata": {},
   "outputs": [
    {
     "name": "stdout",
     "output_type": "stream",
     "text": [
      "torch.Size([5, 1, 27, 27])\n"
     ]
    }
   ],
   "source": [
    "#MaxPool2d\n",
    "t = torch.rand(size=(5, 1, 227, 227))\n",
    "conv = nn.Conv2d(in_channels=1,\n",
    "    out_channels=1,\n",
    "    kernel_size=(11, 11),\n",
    "    stride=(4, 4),\n",
    "    padding=(0, 0))\n",
    "\n",
    "pool = nn.MaxPool2d(kernel_size=(2, 2), stride=(2, 2))\n",
    "print(pool(conv(t)).shape)\n",
    "\n",
    "#[5, 1, 55, 55] 에서 [5, 1, 27, 27]로 바뀜"
   ]
  },
  {
   "cell_type": "code",
   "execution_count": 10,
   "id": "dbb39700",
   "metadata": {},
   "outputs": [
    {
     "name": "stdout",
     "output_type": "stream",
     "text": [
      "torch.Size([5, 1, 27, 27])\n"
     ]
    }
   ],
   "source": [
    "#AvgPool2d\n",
    "t = torch.rand(size=(5, 1, 227, 227))\n",
    "conv = nn.Conv2d(in_channels=1,\n",
    "    out_channels=1,\n",
    "    kernel_size=(11, 11),\n",
    "    stride=(4, 4),\n",
    "    padding=(0, 0))\n",
    "\n",
    "pool = nn.AvgPool2d(kernel_size=(2, 2), stride=(2, 2))\n",
    "print(pool(conv(t)).shape)"
   ]
  }
 ],
 "metadata": {
  "kernelspec": {
   "display_name": "Python 3 (ipykernel)",
   "language": "python",
   "name": "python3"
  },
  "language_info": {
   "codemirror_mode": {
    "name": "ipython",
    "version": 3
   },
   "file_extension": ".py",
   "mimetype": "text/x-python",
   "name": "python",
   "nbconvert_exporter": "python",
   "pygments_lexer": "ipython3",
   "version": "3.11.8"
  }
 },
 "nbformat": 4,
 "nbformat_minor": 5
}
