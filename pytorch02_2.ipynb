{
 "cells": [
  {
   "cell_type": "code",
   "execution_count": 1,
   "id": "1b854e19",
   "metadata": {},
   "outputs": [],
   "source": [
    "import torch\n",
    "import torch.nn as nn\n",
    "import torch.optim as optim\n",
    "import torchvision\n",
    "import torchvision.transforms as transforms\n",
    "from torch.utils.data import DataLoader"
   ]
  },
  {
   "cell_type": "code",
   "execution_count": 2,
   "id": "6f943e8b",
   "metadata": {},
   "outputs": [],
   "source": [
    "# Set hyperparameters\n",
    "num_epochs = 3\n",
    "batch_size = 100\n",
    "learning_rate = 0.001\n",
    "\n",
    "# Load MNIST dataset and preprocessing\n",
    "transform = transforms.Compose([\n",
    "    transforms.ToTensor(),\n",
    "    transforms.Normalize((0.1307,), (0.3081,))\n",
    "])\n",
    "\n",
    "train_dataset = torchvision.datasets.MNIST(\n",
    "    root='./data', train=True, transform=transform, download=True)\n",
    "test_dataset = torchvision.datasets.MNIST(\n",
    "    root='./data', train=False, transform=transform)\n",
    "train_loader = DataLoader(dataset=train_dataset, batch_size=batch_size, shuffle=True)\n",
    "test_loader = DataLoader(dataset=test_dataset, batch_size=batch_size, shuffle=False)"
   ]
  },
  {
   "cell_type": "code",
   "execution_count": 7,
   "id": "2a8e7c0e",
   "metadata": {
    "scrolled": true
   },
   "outputs": [
    {
     "name": "stdout",
     "output_type": "stream",
     "text": [
      "Epoch [1/3], Step [600/600], Loss: 2.3014\n",
      "Epoch [2/3], Step [600/600], Loss: 2.2543\n",
      "Epoch [3/3], Step [600/600], Loss: 2.1575\n",
      "Accuracy: 18.27%\n"
     ]
    }
   ],
   "source": [
    "# Define CNN\n",
    "class SimpleCNN(nn.Module):\n",
    "    def __init__(self):\n",
    "        super(SimpleCNN, self).__init__()\n",
    "        self.conv1 = nn.Conv2d(1, 32, kernel_size=3, stride=1, padding=1)\n",
    "        self.pool = nn.MaxPool2d(kernel_size=2, stride=2)\n",
    "        self.conv2 = nn.Conv2d(32, 64, kernel_size=3, stride=1, padding=1) #안 돌아갈 경우 수를 작게 64를 작게\n",
    "        self.fc1 = nn.Linear(64 * 7 * 7, 128) #y*7*7\n",
    "        self.fc2 = nn.Linear(128, 10)\n",
    "        self.relu = nn.ReLU()\n",
    "        \n",
    "    def forward(self, x):\n",
    "        x = self.pool(self.relu(self.conv1(x)))\n",
    "        x = self.pool(self.relu(self.conv2(x)))\n",
    "        x = x.view(-1, 64 * 7 * 7) #64채널개수 7*7높이너비\n",
    "        x = self.relu(self.fc1(x))\n",
    "        x = self.fc2(x)\n",
    "        return x\n",
    "    \n",
    "model = SimpleCNN()\n",
    "\n",
    "#NN SVG인터넷 검색 후 사이트에서 실제로 볼 수 있음\n",
    "\n",
    "# Model training\n",
    "criterion = nn.CrossEntropyLoss()\n",
    "optimizer = optim.Adam(model.parameters(), lr=learning_rate)\n",
    "\n",
    "total_step = len(train_loader)\n",
    "for epoch in range(num_epochs):\n",
    "    for i, (images, labels) in enumerate(train_loader):\n",
    "        outputs = model(images) # forward-propagation\n",
    "        loss = criterion(outputs, labels)\n",
    "    \n",
    "    optimizer.zero_grad() # back-propagation\n",
    "    loss.backward()\n",
    "    optimizer.step()\n",
    "    \n",
    "    if (i+1) % 100 == 0:\n",
    "        print(f'Epoch [{epoch+1}/{num_epochs}], '\n",
    "            f'Step [{i+1}/{total_step}], '\n",
    "            f'Loss: {loss.item():.4f}')\n",
    "        \n",
    "# Model testing\n",
    "model.eval()\n",
    "with torch.no_grad():\n",
    "    correct = 0\n",
    "    total = 0\n",
    "    \n",
    "    for images, labels in test_loader:\n",
    "        outputs = model(images)\n",
    "        _, predicted = torch.max(outputs.data, 1)\n",
    "        total += labels.size(0)\n",
    "        correct += (predicted == labels).sum().item()\n",
    "        \n",
    "    print(f'Accuracy: {100 * correct / total}%')"
   ]
  },
  {
   "cell_type": "code",
   "execution_count": null,
   "id": "26adc6e6",
   "metadata": {},
   "outputs": [
    {
     "name": "stdout",
     "output_type": "stream",
     "text": [
      "Files already downloaded and verified\n",
      "Files already downloaded and verified\n",
      "[1,   200] loss: 0.980\n"
     ]
    }
   ],
   "source": [
    "import torch\n",
    "import torch.nn as nn\n",
    "import torch.optim as optim\n",
    "import torchvision\n",
    "import torchvision.transforms as transforms\n",
    "from torchvision.models import resnet18, ResNet18_Weights\n",
    "\n",
    "# Set device\n",
    "device = torch.device(\"cuda\" if torch.cuda.is_available() else \"cpu\")\n",
    "\n",
    "# Data transformation\n",
    "transform = transforms.Compose([\n",
    "    transforms.Resize(224), # ResNet18 is built for 224 x 224 size\n",
    "    transforms.ToTensor(),\n",
    "    transforms.Normalize((0.5, 0.5, 0.5), (0.5, 0.5, 0.5))\n",
    "])\n",
    "\n",
    "# Load CIFAR-10 dataset MNIST 같은 이미지 데이터 클래스 10개만 추려놓음\n",
    "trainset = torchvision.datasets.CIFAR10(\n",
    "    root='./data', train=True, download=True, transform=transform)\n",
    "trainloader = torch.utils.data.DataLoader(\n",
    "    trainset, batch_size=64, shuffle=True, num_workers=2)\n",
    "\n",
    "testset = torchvision.datasets.CIFAR10(\n",
    "    root='./data', train=False, download=True, transform=transform)\n",
    "testloader = torch.utils.data.DataLoader(\n",
    "    testset, batch_size=64, shuffle=False, num_workers=2)\n",
    "\n",
    "# Load ResNet-18 and modify it\n",
    "model = resnet18(weights=ResNet18_Weights.DEFAULT)\n",
    "num_ftrs = model.fc.in_features\n",
    "model.fc = nn.Linear(num_ftrs, 10) # CIFAR-10 has 10 classes 10개 짜리 추가해줌\n",
    "model = model.to(device)\n",
    "\n",
    "criterion = nn.CrossEntropyLoss()\n",
    "optimizer = optim.SGD(model.parameters(), lr=0.001, momentum=0.9)\n",
    "\n",
    "# Define training function\n",
    "def train(epochs):\n",
    "    for epoch in range(epochs):\n",
    "        running_loss = 0.0\n",
    "        for i, data in enumerate(trainloader, 0):\n",
    "            inputs, labels = data[0].to(device), data[1].to(device)\n",
    "            \n",
    "            optimizer.zero_grad()\n",
    "            outputs = model(inputs)\n",
    "            loss = criterion(outputs, labels)\n",
    "            loss.backward()\n",
    "            optimizer.step()\n",
    "            \n",
    "            running_loss += loss.item()\n",
    "            if i % 200 == 199:\n",
    "                print(f'[{epoch + 1}, {i + 1:5d}] loss: {running_loss / 200:.3f}')\n",
    "                running_loss = 0.0\n",
    "                \n",
    "# Define testing function\n",
    "def evaluate():\n",
    "    correct = 0\n",
    "    total = 0\n",
    "    with torch.no_grad():\n",
    "        for data in testloader:\n",
    "            images, labels = data[0].to(device), data[1].to(device)\n",
    "            outputs = model(images)\n",
    "            _, predicted = torch.max(outputs.data, 1)\n",
    "            total += labels.size(0)\n",
    "            correct += (predicted == labels).sum().item()\n",
    "    print(f'Accuracy on 10000 test images: {100 * correct / total:.2f}%')\n",
    "    \n",
    "# Model training with 5 epochs\n",
    "train(5)\n",
    "# 5바퀴정도만 진행을 해도 잘 나옴\n",
    "\n",
    "# Model testing\n",
    "evaluate()"
   ]
  },
  {
   "cell_type": "code",
   "execution_count": 29,
   "id": "ea22af51",
   "metadata": {},
   "outputs": [
    {
     "name": "stdout",
     "output_type": "stream",
     "text": [
      "Input size: torch.Size([3, 5, 4])\n",
      "Output size: torch.Size([3, 5, 2])\n"
     ]
    }
   ],
   "source": [
    "import torch\n",
    "import torch.nn as nn\n",
    "import numpy as np\n",
    "\n",
    "input_size = 4\n",
    "hidden_size = 2\n",
    "\n",
    "# 1-hot encoding\n",
    "h = [1, 0, 0, 0]\n",
    "e = [0, 1, 0, 0]\n",
    "l = [0, 0, 1, 0]\n",
    "o = [0, 0, 0, 1]\n",
    "\n",
    "input_data = np.array([[h, e, l, l, o],\n",
    "                       [e, o, l, l, e],\n",
    "                       [l, e, e, l, l]], dtype=np.float32)\n",
    "\n",
    "# Transform the numpy array into torch tensor\n",
    "input_data = torch.tensor(input_data)\n",
    "print(f'Input size: {input_data.shape}')\n",
    "\n",
    "rnn = nn.RNN(input_size=input_size, hidden_size=hidden_size)\n",
    "outputs, _status = rnn(input_data)\n",
    "print(f'Output size: {outputs.shape}')"
   ]
  },
  {
   "cell_type": "code",
   "execution_count": 30,
   "id": "9a68d2ed",
   "metadata": {},
   "outputs": [
    {
     "name": "stdout",
     "output_type": "stream",
     "text": [
      "Input size: torch.Size([3, 5, 4])\n",
      "Output size: torch.Size([3, 5, 2])\n"
     ]
    }
   ],
   "source": [
    "import torch\n",
    "import torch.nn as nn\n",
    "import numpy as np\n",
    "\n",
    "input_size = 4\n",
    "hidden_size = 2\n",
    "\n",
    "# 1-hot encoding\n",
    "h = [1, 0, 0, 0]\n",
    "e = [0, 1, 0, 0]\n",
    "l = [0, 0, 1, 0]\n",
    "o = [0, 0, 0, 1]\n",
    "\n",
    "input_data = np.array([[h, e, l, l, o],\n",
    "                       [e, o, l, l, e],\n",
    "                       [l, e, e, l, l]], dtype=np.float32)\n",
    "\n",
    "# Transform the numpy array into torch tensor\n",
    "input_data = torch.tensor(input_data)\n",
    "print(f'Input size: {input_data.shape}')\n",
    "\n",
    "rnn = nn.LSTM(input_size=input_size, hidden_size=hidden_size)\n",
    "outputs, _status = rnn(input_data)\n",
    "print(f'Output size: {outputs.shape}')"
   ]
  },
  {
   "cell_type": "code",
   "execution_count": 31,
   "id": "b3cde770",
   "metadata": {},
   "outputs": [
    {
     "name": "stdout",
     "output_type": "stream",
     "text": [
      "Input size: torch.Size([3, 5, 4])\n",
      "Output size: torch.Size([3, 5, 4])\n"
     ]
    }
   ],
   "source": [
    "import torch\n",
    "import torch.nn as nn\n",
    "import numpy as np\n",
    "\n",
    "input_size = 4\n",
    "hidden_size = 4\n",
    "\n",
    "# 1-hot encoding\n",
    "h = [1, 0, 0, 0]\n",
    "e = [0, 1, 0, 0]\n",
    "l = [0, 0, 1, 0]\n",
    "o = [0, 0, 0, 1]\n",
    "\n",
    "input_data = np.array([[h, e, l, l, o],\n",
    "                       [e, o, l, l, e],\n",
    "                       [l, e, e, l, l]], dtype=np.float32)\n",
    "\n",
    "# Transform the numpy array into torch tensor\n",
    "input_data = torch.tensor(input_data)\n",
    "print(f'Input size: {input_data.shape}')\n",
    "\n",
    "rnn = nn.GRU(input_size=input_size, hidden_size=hidden_size)\n",
    "outputs, _status = rnn(input_data)\n",
    "print(f'Output size: {outputs.shape}')"
   ]
  },
  {
   "cell_type": "code",
   "execution_count": 32,
   "id": "f52a6bcf",
   "metadata": {},
   "outputs": [],
   "source": [
    "import torch\n",
    "import torch.nn as nn\n",
    "# Define RNN\n",
    "class SimpleRNN(nn.Module):\n",
    "    def __init__(self, input_size, hidden_size, output_size):\n",
    "        super(SimpleRNN, self).__init__()\n",
    "        self.hidden_size = hidden_size\n",
    "        self.rnn = nn.RNN(input_size, hidden_size, batch_first=True)\n",
    "        self.fc = nn.Linear(hidden_size, output_size)\n",
    "    def forward(self, x):\n",
    "        _, hidden = self.rnn(x)\n",
    "        out = self.fc(hidden.squeeze(0))\n",
    "        return out"
   ]
  },
  {
   "cell_type": "code",
   "execution_count": 33,
   "id": "7ccfdd62",
   "metadata": {},
   "outputs": [],
   "source": [
    "# Set hyperparameters\n",
    "input_size = 1\n",
    "hidden_size = 10\n",
    "output_size = 1\n",
    "seq_length = 5\n",
    "# Model initialization\n",
    "model = SimpleRNN(input_size, hidden_size, output_size)\n",
    "criterion = nn.MSELoss()\n",
    "optimizer = torch.optim.Adam(model.parameters(), lr=0.01)\n",
    "# Generate dataset\n",
    "x = torch.randn(10, seq_length, input_size)\n",
    "y = torch.sum(x, dim=1)"
   ]
  },
  {
   "cell_type": "code",
   "execution_count": 50,
   "id": "9440444e",
   "metadata": {},
   "outputs": [
    {
     "name": "stdout",
     "output_type": "stream",
     "text": [
      "Epoch [10/100], Loss: 0.0011\n",
      "Epoch [20/100], Loss: 0.0006\n",
      "Epoch [30/100], Loss: 0.0005\n",
      "Epoch [40/100], Loss: 0.0005\n",
      "Epoch [50/100], Loss: 0.0005\n",
      "Epoch [60/100], Loss: 0.0004\n",
      "Epoch [70/100], Loss: 0.0004\n",
      "Epoch [80/100], Loss: 0.0004\n",
      "Epoch [90/100], Loss: 0.0004\n",
      "Epoch [100/100], Loss: 0.0003\n",
      "Test input sum: -1.2030\n",
      "Predicted sum: -0.6133\n"
     ]
    }
   ],
   "source": [
    "# Model training\n",
    "for epoch in range(100):\n",
    "    outputs = model(x)\n",
    "    loss = criterion(outputs, y)\n",
    "    \n",
    "    optimizer.zero_grad()\n",
    "    loss.backward()\n",
    "    optimizer.step()\n",
    "    \n",
    "    if (epoch + 1) % 10 == 0:\n",
    "        print(f'Epoch [{epoch+1}/100], Loss: {loss.item():.4f}')\n",
    "        \n",
    "# Model testing\n",
    "test_input = torch.randn(1, seq_length, input_size)\n",
    "predicted = model(test_input)\n",
    "print(f\"Test input sum: {test_input.sum().item():.4f}\")\n",
    "print(f\"Predicted sum: {predicted.item():.4f}\")"
   ]
  },
  {
   "cell_type": "code",
   "execution_count": 51,
   "id": "7a0881df",
   "metadata": {},
   "outputs": [],
   "source": [
    "class SimpleLSTM(nn.Module):\n",
    "    def __init__(self, input_size, hidden_size, output_size):\n",
    "        super(SimpleLSTM, self).__init__()\n",
    "        self.hidden_size = hidden_size\n",
    "        self.lstm = nn.LSTM(input_size, hidden_size, batch_first=True)\n",
    "        self.fc = nn.Linear(hidden_size, output_size)\n",
    "    \n",
    "    def forward(self, x):\n",
    "        _, (hidden, _) = self.lstm(x)  # LSTM returns hidden state and cell state  \n",
    "        out = self.fc(hidden.squeeze(0))\n",
    "        return out"
   ]
  },
  {
   "cell_type": "code",
   "execution_count": 52,
   "id": "e71511ee",
   "metadata": {},
   "outputs": [
    {
     "name": "stdout",
     "output_type": "stream",
     "text": [
      "Epoch [10/100], Loss: 1.6402\n",
      "Epoch [20/100], Loss: 1.1454\n",
      "Epoch [30/100], Loss: 0.5434\n",
      "Epoch [40/100], Loss: 0.1407\n",
      "Epoch [50/100], Loss: 0.0671\n",
      "Epoch [60/100], Loss: 0.0311\n",
      "Epoch [70/100], Loss: 0.0132\n",
      "Epoch [80/100], Loss: 0.0064\n",
      "Epoch [90/100], Loss: 0.0030\n",
      "Epoch [100/100], Loss: 0.0015\n",
      "Test input sum: -1.6202\n",
      "Predicted sum: -1.3167\n"
     ]
    }
   ],
   "source": [
    "# Set hyperparameters\n",
    "input_size = 1\n",
    "hidden_size = 15\n",
    "output_size = 1\n",
    "seq_length = 5\n",
    "\n",
    "# Model initialization\n",
    "model = SimpleLSTM(input_size, hidden_size, output_size)\n",
    "criterion = nn.MSELoss()\n",
    "optimizer = torch.optim.Adam(model.parameters(), lr=0.01)\n",
    "\n",
    "# Generate dataset\n",
    "x = torch.randn(10, seq_length, input_size)\n",
    "y = torch.sum(x, dim=1)\n",
    "\n",
    "# Model training\n",
    "for epoch in range(100):\n",
    "    outputs = model(x)\n",
    "    loss = criterion(outputs, y)\n",
    "    \n",
    "    optimizer.zero_grad()\n",
    "    loss.backward()\n",
    "    optimizer.step()\n",
    "    \n",
    "    if (epoch + 1) % 10 == 0:\n",
    "        print(f'Epoch [{epoch+1}/100], Loss: {loss.item():.4f}')\n",
    "# Model testing\n",
    "test_input = torch.randn(1, seq_length, input_size)\n",
    "predicted = model(test_input)\n",
    "print(f\"Test input sum: {test_input.sum().item():.4f}\")\n",
    "print(f\"Predicted sum: {predicted.item():.4f}\")"
   ]
  },
  {
   "cell_type": "code",
   "execution_count": null,
   "id": "352d575e",
   "metadata": {},
   "outputs": [],
   "source": []
  }
 ],
 "metadata": {
  "kernelspec": {
   "display_name": "Python 3 (ipykernel)",
   "language": "python",
   "name": "python3"
  },
  "language_info": {
   "codemirror_mode": {
    "name": "ipython",
    "version": 3
   },
   "file_extension": ".py",
   "mimetype": "text/x-python",
   "name": "python",
   "nbconvert_exporter": "python",
   "pygments_lexer": "ipython3",
   "version": "3.11.8"
  }
 },
 "nbformat": 4,
 "nbformat_minor": 5
}
